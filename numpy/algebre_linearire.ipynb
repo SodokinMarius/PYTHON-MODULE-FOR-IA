{
 "cells": [
  {
   "cell_type": "code",
   "execution_count": 1,
   "id": "c3248662",
   "metadata": {},
   "outputs": [],
   "source": [
    "import numpy as np"
   ]
  },
  {
   "cell_type": "markdown",
   "id": "85debdc5",
   "metadata": {},
   "source": [
    "##Produit de deux matrices"
   ]
  },
  {
   "cell_type": "code",
   "execution_count": 4,
   "id": "61e6a4e8",
   "metadata": {},
   "outputs": [
    {
     "name": "stdout",
     "output_type": "stream",
     "text": [
      "53\n",
      "53\n"
     ]
    }
   ],
   "source": [
    "m=np.array([1,8,0,-1,7,3])\n",
    "n=np.array([1,3,0,-8,2,2])\n",
    "print(np.dot(m,n))\n",
    "print(np.dot(n,m))\n"
   ]
  },
  {
   "cell_type": "code",
   "execution_count": 5,
   "id": "ebfe6c50",
   "metadata": {},
   "outputs": [],
   "source": [
    "##Produit de deux matrices##"
   ]
  },
  {
   "cell_type": "code",
   "execution_count": 6,
   "id": "0a7008ae",
   "metadata": {},
   "outputs": [],
   "source": [
    "##Produit de deux matrices"
   ]
  },
  {
   "cell_type": "code",
   "execution_count": null,
   "id": "27af61b3",
   "metadata": {},
   "outputs": [],
   "source": []
  },
  {
   "cell_type": "code",
   "execution_count": null,
   "id": "775e99aa",
   "metadata": {},
   "outputs": [],
   "source": []
  }
 ],
 "metadata": {
  "kernelspec": {
   "display_name": "Python 3 (ipykernel)",
   "language": "python",
   "name": "python3"
  },
  "language_info": {
   "codemirror_mode": {
    "name": "ipython",
    "version": 3
   },
   "file_extension": ".py",
   "mimetype": "text/x-python",
   "name": "python",
   "nbconvert_exporter": "python",
   "pygments_lexer": "ipython3",
   "version": "3.8.10"
  }
 },
 "nbformat": 4,
 "nbformat_minor": 5
}
