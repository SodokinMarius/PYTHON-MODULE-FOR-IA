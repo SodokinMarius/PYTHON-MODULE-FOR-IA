{
 "cells": [
  {
   "cell_type": "code",
   "execution_count": 1,
   "id": "beb32f4b",
   "metadata": {},
   "outputs": [],
   "source": [
    "import pandas as pd"
   ]
  },
  {
   "cell_type": "code",
   "execution_count": 2,
   "id": "a253f716",
   "metadata": {},
   "outputs": [],
   "source": [
    "from pandas import Series,DataFrame"
   ]
  },
  {
   "cell_type": "code",
   "execution_count": 3,
   "id": "7b9f0c31",
   "metadata": {},
   "outputs": [],
   "source": [
    "import numpy as np"
   ]
  },
  {
   "cell_type": "code",
   "execution_count": 4,
   "id": "c2d2d4d6",
   "metadata": {},
   "outputs": [],
   "source": [
    "data=Series(np.array(np.arange(1,6)))"
   ]
  },
  {
   "cell_type": "code",
   "execution_count": 5,
   "id": "0c15bf40",
   "metadata": {},
   "outputs": [
    {
     "data": {
      "text/plain": [
       "0    1\n",
       "1    2\n",
       "2    3\n",
       "3    4\n",
       "4    5\n",
       "dtype: int64"
      ]
     },
     "execution_count": 5,
     "metadata": {},
     "output_type": "execute_result"
    }
   ],
   "source": [
    "data"
   ]
  },
  {
   "cell_type": "code",
   "execution_count": 6,
   "id": "e5e1073e",
   "metadata": {},
   "outputs": [],
   "source": [
    "liste=list(data)"
   ]
  },
  {
   "cell_type": "code",
   "execution_count": 7,
   "id": "8cdcd4c2",
   "metadata": {},
   "outputs": [
    {
     "data": {
      "text/plain": [
       "[1, 2, 3, 4, 5]"
      ]
     },
     "execution_count": 7,
     "metadata": {},
     "output_type": "execute_result"
    }
   ],
   "source": [
    "liste"
   ]
  },
  {
   "cell_type": "code",
   "execution_count": 8,
   "id": "f266cfb7",
   "metadata": {},
   "outputs": [],
   "source": [
    "s1=Series([2, 4, 6, 8, 10])"
   ]
  },
  {
   "cell_type": "code",
   "execution_count": 9,
   "id": "7d85daac",
   "metadata": {},
   "outputs": [],
   "source": [
    "s2=Series( [1, 3, 5, 7, 9])"
   ]
  },
  {
   "cell_type": "code",
   "execution_count": 10,
   "id": "42e74394",
   "metadata": {},
   "outputs": [],
   "source": [
    "som=s1.add(s2)"
   ]
  },
  {
   "cell_type": "code",
   "execution_count": 11,
   "id": "d38493b9",
   "metadata": {},
   "outputs": [
    {
     "data": {
      "text/plain": [
       "0     3\n",
       "1     7\n",
       "2    11\n",
       "3    15\n",
       "4    19\n",
       "dtype: int64"
      ]
     },
     "execution_count": 11,
     "metadata": {},
     "output_type": "execute_result"
    }
   ],
   "source": [
    "som"
   ]
  },
  {
   "cell_type": "code",
   "execution_count": 12,
   "id": "2ff65d1c",
   "metadata": {},
   "outputs": [],
   "source": [
    "multi=s1.mul(s2)"
   ]
  },
  {
   "cell_type": "code",
   "execution_count": 13,
   "id": "35520437",
   "metadata": {},
   "outputs": [
    {
     "data": {
      "text/plain": [
       "0     2\n",
       "1    12\n",
       "2    30\n",
       "3    56\n",
       "4    90\n",
       "dtype: int64"
      ]
     },
     "execution_count": 13,
     "metadata": {},
     "output_type": "execute_result"
    }
   ],
   "source": [
    "multi"
   ]
  },
  {
   "cell_type": "code",
   "execution_count": 14,
   "id": "4c223bd8",
   "metadata": {},
   "outputs": [],
   "source": [
    "divi=s1.div(s2)"
   ]
  },
  {
   "cell_type": "code",
   "execution_count": 15,
   "id": "b4f980a9",
   "metadata": {},
   "outputs": [
    {
     "data": {
      "text/plain": [
       "0    2.000000\n",
       "1    1.333333\n",
       "2    1.200000\n",
       "3    1.142857\n",
       "4    1.111111\n",
       "dtype: float64"
      ]
     },
     "execution_count": 15,
     "metadata": {},
     "output_type": "execute_result"
    }
   ],
   "source": [
    "divi"
   ]
  },
  {
   "cell_type": "code",
   "execution_count": 16,
   "id": "d0c8a1a9",
   "metadata": {},
   "outputs": [],
   "source": [
    "sub=s1.sub(s2)"
   ]
  },
  {
   "cell_type": "code",
   "execution_count": 17,
   "id": "080f3421",
   "metadata": {},
   "outputs": [
    {
     "data": {
      "text/plain": [
       "0    1\n",
       "1    1\n",
       "2    1\n",
       "3    1\n",
       "4    1\n",
       "dtype: int64"
      ]
     },
     "execution_count": 17,
     "metadata": {},
     "output_type": "execute_result"
    }
   ],
   "source": [
    "sub"
   ]
  },
  {
   "cell_type": "code",
   "execution_count": 18,
   "id": "46c721c5",
   "metadata": {},
   "outputs": [],
   "source": [
    "s3=Series([2, 4, 6, 8, 10])"
   ]
  },
  {
   "cell_type": "code",
   "execution_count": 19,
   "id": "fea38520",
   "metadata": {},
   "outputs": [],
   "source": [
    "s4=Series([1, 3, 5, 7, 10])"
   ]
  },
  {
   "cell_type": "code",
   "execution_count": 20,
   "id": "e11693ef",
   "metadata": {},
   "outputs": [
    {
     "data": {
      "text/plain": [
       "0     True\n",
       "1     True\n",
       "2     True\n",
       "3     True\n",
       "4    False\n",
       "dtype: bool"
      ]
     },
     "execution_count": 20,
     "metadata": {},
     "output_type": "execute_result"
    }
   ],
   "source": [
    "s3>s4"
   ]
  },
  {
   "cell_type": "code",
   "execution_count": 21,
   "id": "10e35ad0",
   "metadata": {},
   "outputs": [
    {
     "data": {
      "text/plain": [
       "0    False\n",
       "1    False\n",
       "2    False\n",
       "3    False\n",
       "4    False\n",
       "dtype: bool"
      ]
     },
     "execution_count": 21,
     "metadata": {},
     "output_type": "execute_result"
    }
   ],
   "source": [
    "s3==s2"
   ]
  },
  {
   "cell_type": "code",
   "execution_count": 22,
   "id": "8825ced8",
   "metadata": {},
   "outputs": [],
   "source": [
    "dic={'a': 100, 'b': 200, 'c': 300, 'd': 400, 'e': 800}"
   ]
  },
  {
   "cell_type": "code",
   "execution_count": 23,
   "id": "846af074",
   "metadata": {},
   "outputs": [
    {
     "data": {
      "text/plain": [
       "a    100\n",
       "b    200\n",
       "c    300\n",
       "d    400\n",
       "e    800\n",
       "dtype: int64"
      ]
     },
     "execution_count": 23,
     "metadata": {},
     "output_type": "execute_result"
    }
   ],
   "source": [
    "Series(dic)"
   ]
  },
  {
   "cell_type": "code",
   "execution_count": 24,
   "id": "3a1f6a46",
   "metadata": {},
   "outputs": [],
   "source": [
    "arr=[10,20,30,40,50]"
   ]
  },
  {
   "cell_type": "code",
   "execution_count": 25,
   "id": "fafc6808",
   "metadata": {},
   "outputs": [
    {
     "data": {
      "text/plain": [
       "array([10, 20, 30, 40, 50])"
      ]
     },
     "execution_count": 25,
     "metadata": {},
     "output_type": "execute_result"
    }
   ],
   "source": [
    "np.array(arr)"
   ]
  },
  {
   "cell_type": "code",
   "execution_count": 26,
   "id": "5f458ed5",
   "metadata": {},
   "outputs": [
    {
     "data": {
      "text/plain": [
       "0     2\n",
       "1     4\n",
       "2     6\n",
       "3     8\n",
       "4    10\n",
       "dtype: int64"
      ]
     },
     "execution_count": 26,
     "metadata": {},
     "output_type": "execute_result"
    }
   ],
   "source": [
    "s3"
   ]
  },
  {
   "cell_type": "code",
   "execution_count": 27,
   "id": "8b9e744b",
   "metadata": {},
   "outputs": [
    {
     "ename": "TypeError",
     "evalue": "data type 'ff8' not understood",
     "output_type": "error",
     "traceback": [
      "\u001b[0;31m---------------------------------------------------------------------------\u001b[0m",
      "\u001b[0;31mTypeError\u001b[0m                                 Traceback (most recent call last)",
      "Input \u001b[0;32mIn [27]\u001b[0m, in \u001b[0;36m<cell line: 1>\u001b[0;34m()\u001b[0m\n\u001b[0;32m----> 1\u001b[0m \u001b[43ms3\u001b[49m\u001b[38;5;241;43m.\u001b[39;49m\u001b[43mastype\u001b[49m\u001b[43m(\u001b[49m\u001b[38;5;124;43m'\u001b[39;49m\u001b[38;5;124;43mff8\u001b[39;49m\u001b[38;5;124;43m'\u001b[39;49m\u001b[43m)\u001b[49m\n",
      "File \u001b[0;32m~/.local/lib/python3.8/site-packages/pandas/core/generic.py:5912\u001b[0m, in \u001b[0;36mNDFrame.astype\u001b[0;34m(self, dtype, copy, errors)\u001b[0m\n\u001b[1;32m   5905\u001b[0m     results \u001b[38;5;241m=\u001b[39m [\n\u001b[1;32m   5906\u001b[0m         \u001b[38;5;28mself\u001b[39m\u001b[38;5;241m.\u001b[39miloc[:, i]\u001b[38;5;241m.\u001b[39mastype(dtype, copy\u001b[38;5;241m=\u001b[39mcopy)\n\u001b[1;32m   5907\u001b[0m         \u001b[38;5;28;01mfor\u001b[39;00m i \u001b[38;5;129;01min\u001b[39;00m \u001b[38;5;28mrange\u001b[39m(\u001b[38;5;28mlen\u001b[39m(\u001b[38;5;28mself\u001b[39m\u001b[38;5;241m.\u001b[39mcolumns))\n\u001b[1;32m   5908\u001b[0m     ]\n\u001b[1;32m   5910\u001b[0m \u001b[38;5;28;01melse\u001b[39;00m:\n\u001b[1;32m   5911\u001b[0m     \u001b[38;5;66;03m# else, only a single dtype is given\u001b[39;00m\n\u001b[0;32m-> 5912\u001b[0m     new_data \u001b[38;5;241m=\u001b[39m \u001b[38;5;28;43mself\u001b[39;49m\u001b[38;5;241;43m.\u001b[39;49m\u001b[43m_mgr\u001b[49m\u001b[38;5;241;43m.\u001b[39;49m\u001b[43mastype\u001b[49m\u001b[43m(\u001b[49m\u001b[43mdtype\u001b[49m\u001b[38;5;241;43m=\u001b[39;49m\u001b[43mdtype\u001b[49m\u001b[43m,\u001b[49m\u001b[43m \u001b[49m\u001b[43mcopy\u001b[49m\u001b[38;5;241;43m=\u001b[39;49m\u001b[43mcopy\u001b[49m\u001b[43m,\u001b[49m\u001b[43m \u001b[49m\u001b[43merrors\u001b[49m\u001b[38;5;241;43m=\u001b[39;49m\u001b[43merrors\u001b[49m\u001b[43m)\u001b[49m\n\u001b[1;32m   5913\u001b[0m     \u001b[38;5;28;01mreturn\u001b[39;00m \u001b[38;5;28mself\u001b[39m\u001b[38;5;241m.\u001b[39m_constructor(new_data)\u001b[38;5;241m.\u001b[39m__finalize__(\u001b[38;5;28mself\u001b[39m, method\u001b[38;5;241m=\u001b[39m\u001b[38;5;124m\"\u001b[39m\u001b[38;5;124mastype\u001b[39m\u001b[38;5;124m\"\u001b[39m)\n\u001b[1;32m   5915\u001b[0m \u001b[38;5;66;03m# GH 33113: handle empty frame or series\u001b[39;00m\n",
      "File \u001b[0;32m~/.local/lib/python3.8/site-packages/pandas/core/internals/managers.py:419\u001b[0m, in \u001b[0;36mBaseBlockManager.astype\u001b[0;34m(self, dtype, copy, errors)\u001b[0m\n\u001b[1;32m    418\u001b[0m \u001b[38;5;28;01mdef\u001b[39;00m \u001b[38;5;21mastype\u001b[39m(\u001b[38;5;28mself\u001b[39m: T, dtype, copy: \u001b[38;5;28mbool\u001b[39m \u001b[38;5;241m=\u001b[39m \u001b[38;5;28;01mFalse\u001b[39;00m, errors: \u001b[38;5;28mstr\u001b[39m \u001b[38;5;241m=\u001b[39m \u001b[38;5;124m\"\u001b[39m\u001b[38;5;124mraise\u001b[39m\u001b[38;5;124m\"\u001b[39m) \u001b[38;5;241m-\u001b[39m\u001b[38;5;241m>\u001b[39m T:\n\u001b[0;32m--> 419\u001b[0m     \u001b[38;5;28;01mreturn\u001b[39;00m \u001b[38;5;28;43mself\u001b[39;49m\u001b[38;5;241;43m.\u001b[39;49m\u001b[43mapply\u001b[49m\u001b[43m(\u001b[49m\u001b[38;5;124;43m\"\u001b[39;49m\u001b[38;5;124;43mastype\u001b[39;49m\u001b[38;5;124;43m\"\u001b[39;49m\u001b[43m,\u001b[49m\u001b[43m \u001b[49m\u001b[43mdtype\u001b[49m\u001b[38;5;241;43m=\u001b[39;49m\u001b[43mdtype\u001b[49m\u001b[43m,\u001b[49m\u001b[43m \u001b[49m\u001b[43mcopy\u001b[49m\u001b[38;5;241;43m=\u001b[39;49m\u001b[43mcopy\u001b[49m\u001b[43m,\u001b[49m\u001b[43m \u001b[49m\u001b[43merrors\u001b[49m\u001b[38;5;241;43m=\u001b[39;49m\u001b[43merrors\u001b[49m\u001b[43m)\u001b[49m\n",
      "File \u001b[0;32m~/.local/lib/python3.8/site-packages/pandas/core/internals/managers.py:304\u001b[0m, in \u001b[0;36mBaseBlockManager.apply\u001b[0;34m(self, f, align_keys, ignore_failures, **kwargs)\u001b[0m\n\u001b[1;32m    302\u001b[0m         applied \u001b[38;5;241m=\u001b[39m b\u001b[38;5;241m.\u001b[39mapply(f, \u001b[38;5;241m*\u001b[39m\u001b[38;5;241m*\u001b[39mkwargs)\n\u001b[1;32m    303\u001b[0m     \u001b[38;5;28;01melse\u001b[39;00m:\n\u001b[0;32m--> 304\u001b[0m         applied \u001b[38;5;241m=\u001b[39m \u001b[38;5;28;43mgetattr\u001b[39;49m\u001b[43m(\u001b[49m\u001b[43mb\u001b[49m\u001b[43m,\u001b[49m\u001b[43m \u001b[49m\u001b[43mf\u001b[49m\u001b[43m)\u001b[49m\u001b[43m(\u001b[49m\u001b[38;5;241;43m*\u001b[39;49m\u001b[38;5;241;43m*\u001b[39;49m\u001b[43mkwargs\u001b[49m\u001b[43m)\u001b[49m\n\u001b[1;32m    305\u001b[0m \u001b[38;5;28;01mexcept\u001b[39;00m (\u001b[38;5;167;01mTypeError\u001b[39;00m, \u001b[38;5;167;01mNotImplementedError\u001b[39;00m):\n\u001b[1;32m    306\u001b[0m     \u001b[38;5;28;01mif\u001b[39;00m \u001b[38;5;129;01mnot\u001b[39;00m ignore_failures:\n",
      "File \u001b[0;32m~/.local/lib/python3.8/site-packages/pandas/core/internals/blocks.py:580\u001b[0m, in \u001b[0;36mBlock.astype\u001b[0;34m(self, dtype, copy, errors)\u001b[0m\n\u001b[1;32m    562\u001b[0m \u001b[38;5;124;03m\"\"\"\u001b[39;00m\n\u001b[1;32m    563\u001b[0m \u001b[38;5;124;03mCoerce to the new dtype.\u001b[39;00m\n\u001b[1;32m    564\u001b[0m \n\u001b[0;32m   (...)\u001b[0m\n\u001b[1;32m    576\u001b[0m \u001b[38;5;124;03mBlock\u001b[39;00m\n\u001b[1;32m    577\u001b[0m \u001b[38;5;124;03m\"\"\"\u001b[39;00m\n\u001b[1;32m    578\u001b[0m values \u001b[38;5;241m=\u001b[39m \u001b[38;5;28mself\u001b[39m\u001b[38;5;241m.\u001b[39mvalues\n\u001b[0;32m--> 580\u001b[0m new_values \u001b[38;5;241m=\u001b[39m \u001b[43mastype_array_safe\u001b[49m\u001b[43m(\u001b[49m\u001b[43mvalues\u001b[49m\u001b[43m,\u001b[49m\u001b[43m \u001b[49m\u001b[43mdtype\u001b[49m\u001b[43m,\u001b[49m\u001b[43m \u001b[49m\u001b[43mcopy\u001b[49m\u001b[38;5;241;43m=\u001b[39;49m\u001b[43mcopy\u001b[49m\u001b[43m,\u001b[49m\u001b[43m \u001b[49m\u001b[43merrors\u001b[49m\u001b[38;5;241;43m=\u001b[39;49m\u001b[43merrors\u001b[49m\u001b[43m)\u001b[49m\n\u001b[1;32m    582\u001b[0m new_values \u001b[38;5;241m=\u001b[39m maybe_coerce_values(new_values)\n\u001b[1;32m    583\u001b[0m newb \u001b[38;5;241m=\u001b[39m \u001b[38;5;28mself\u001b[39m\u001b[38;5;241m.\u001b[39mmake_block(new_values)\n",
      "File \u001b[0;32m~/.local/lib/python3.8/site-packages/pandas/core/dtypes/cast.py:1286\u001b[0m, in \u001b[0;36mastype_array_safe\u001b[0;34m(values, dtype, copy, errors)\u001b[0m\n\u001b[1;32m   1280\u001b[0m     msg \u001b[38;5;241m=\u001b[39m (\n\u001b[1;32m   1281\u001b[0m         \u001b[38;5;124mf\u001b[39m\u001b[38;5;124m\"\u001b[39m\u001b[38;5;124mExpected an instance of \u001b[39m\u001b[38;5;132;01m{\u001b[39;00mdtype\u001b[38;5;241m.\u001b[39m\u001b[38;5;18m__name__\u001b[39m\u001b[38;5;132;01m}\u001b[39;00m\u001b[38;5;124m, \u001b[39m\u001b[38;5;124m\"\u001b[39m\n\u001b[1;32m   1282\u001b[0m         \u001b[38;5;124m\"\u001b[39m\u001b[38;5;124mbut got the class instead. Try instantiating \u001b[39m\u001b[38;5;124m'\u001b[39m\u001b[38;5;124mdtype\u001b[39m\u001b[38;5;124m'\u001b[39m\u001b[38;5;124m.\u001b[39m\u001b[38;5;124m\"\u001b[39m\n\u001b[1;32m   1283\u001b[0m     )\n\u001b[1;32m   1284\u001b[0m     \u001b[38;5;28;01mraise\u001b[39;00m \u001b[38;5;167;01mTypeError\u001b[39;00m(msg)\n\u001b[0;32m-> 1286\u001b[0m dtype \u001b[38;5;241m=\u001b[39m \u001b[43mpandas_dtype\u001b[49m\u001b[43m(\u001b[49m\u001b[43mdtype\u001b[49m\u001b[43m)\u001b[49m\n\u001b[1;32m   1287\u001b[0m \u001b[38;5;28;01mif\u001b[39;00m \u001b[38;5;28misinstance\u001b[39m(dtype, PandasDtype):\n\u001b[1;32m   1288\u001b[0m     \u001b[38;5;66;03m# Ensure we don't end up with a PandasArray\u001b[39;00m\n\u001b[1;32m   1289\u001b[0m     dtype \u001b[38;5;241m=\u001b[39m dtype\u001b[38;5;241m.\u001b[39mnumpy_dtype\n",
      "File \u001b[0;32m~/.local/lib/python3.8/site-packages/pandas/core/dtypes/common.py:1777\u001b[0m, in \u001b[0;36mpandas_dtype\u001b[0;34m(dtype)\u001b[0m\n\u001b[1;32m   1774\u001b[0m \u001b[38;5;66;03m# try a numpy dtype\u001b[39;00m\n\u001b[1;32m   1775\u001b[0m \u001b[38;5;66;03m# raise a consistent TypeError if failed\u001b[39;00m\n\u001b[1;32m   1776\u001b[0m \u001b[38;5;28;01mtry\u001b[39;00m:\n\u001b[0;32m-> 1777\u001b[0m     npdtype \u001b[38;5;241m=\u001b[39m \u001b[43mnp\u001b[49m\u001b[38;5;241;43m.\u001b[39;49m\u001b[43mdtype\u001b[49m\u001b[43m(\u001b[49m\u001b[43mdtype\u001b[49m\u001b[43m)\u001b[49m\n\u001b[1;32m   1778\u001b[0m \u001b[38;5;28;01mexcept\u001b[39;00m \u001b[38;5;167;01mSyntaxError\u001b[39;00m \u001b[38;5;28;01mas\u001b[39;00m err:\n\u001b[1;32m   1779\u001b[0m     \u001b[38;5;66;03m# np.dtype uses `eval` which can raise SyntaxError\u001b[39;00m\n\u001b[1;32m   1780\u001b[0m     \u001b[38;5;28;01mraise\u001b[39;00m \u001b[38;5;167;01mTypeError\u001b[39;00m(\u001b[38;5;124mf\u001b[39m\u001b[38;5;124m\"\u001b[39m\u001b[38;5;124mdata type \u001b[39m\u001b[38;5;124m'\u001b[39m\u001b[38;5;132;01m{\u001b[39;00mdtype\u001b[38;5;132;01m}\u001b[39;00m\u001b[38;5;124m'\u001b[39m\u001b[38;5;124m not understood\u001b[39m\u001b[38;5;124m\"\u001b[39m) \u001b[38;5;28;01mfrom\u001b[39;00m \u001b[38;5;21;01merr\u001b[39;00m\n",
      "\u001b[0;31mTypeError\u001b[0m: data type 'ff8' not understood"
     ]
    }
   ],
   "source": [
    "s3.astype('ff8')"
   ]
  },
  {
   "cell_type": "code",
   "execution_count": null,
   "id": "d5c7e0ad",
   "metadata": {},
   "outputs": [],
   "source": [
    "s1 = pd.Series(['100', '200', 'python', '300.12', '400'])"
   ]
  },
  {
   "cell_type": "code",
   "execution_count": null,
   "id": "1681e601",
   "metadata": {},
   "outputs": [],
   "source": [
    "s1"
   ]
  },
  {
   "cell_type": "code",
   "execution_count": null,
   "id": "29f76aa6",
   "metadata": {},
   "outputs": [],
   "source": [
    "s1.astype(np.float64)"
   ]
  },
  {
   "cell_type": "code",
   "execution_count": null,
   "id": "52ecaf2a",
   "metadata": {},
   "outputs": [],
   "source": [
    "s1"
   ]
  },
  {
   "cell_type": "code",
   "execution_count": null,
   "id": "f620ca26",
   "metadata": {},
   "outputs": [],
   "source": [
    "s1.to_numeric()"
   ]
  },
  {
   "cell_type": "code",
   "execution_count": null,
   "id": "ef5f5245",
   "metadata": {},
   "outputs": [],
   "source": [
    "pd.to_numeric(s1,errors='coerce')"
   ]
  },
  {
   "cell_type": "code",
   "execution_count": null,
   "id": "c5d88d2b",
   "metadata": {},
   "outputs": [],
   "source": [
    "sa=Series(['Red', 'Green', 'White'])"
   ]
  },
  {
   "cell_type": "code",
   "execution_count": null,
   "id": "cbc4bb13",
   "metadata": {},
   "outputs": [],
   "source": [
    "sb=Series(['Red', 'Black]'])"
   ]
  },
  {
   "cell_type": "code",
   "execution_count": null,
   "id": "dcbc016e",
   "metadata": {},
   "outputs": [],
   "source": [
    "sc=Series(['Yellow'])"
   ]
  },
  {
   "cell_type": "code",
   "execution_count": null,
   "id": "a5751d3f",
   "metadata": {},
   "outputs": [],
   "source": [
    "sd=sa.append(sb).append(sc)"
   ]
  },
  {
   "cell_type": "code",
   "execution_count": null,
   "id": "a1c36ec4",
   "metadata": {},
   "outputs": [],
   "source": [
    "sd"
   ]
  },
  {
   "cell_type": "code",
   "execution_count": null,
   "id": "5c8ad9df",
   "metadata": {},
   "outputs": [],
   "source": [
    "sd=Series([sa+sb+sc])"
   ]
  },
  {
   "cell_type": "code",
   "execution_count": null,
   "id": "2840aadf",
   "metadata": {},
   "outputs": [],
   "source": [
    "sd"
   ]
  },
  {
   "cell_type": "code",
   "execution_count": null,
   "id": "1ab6ed64",
   "metadata": {},
   "outputs": [],
   "source": [
    "sr=Series([0,100,1, 200,2,'python',3, 300.12,4, 400])"
   ]
  },
  {
   "cell_type": "code",
   "execution_count": null,
   "id": "31a25939",
   "metadata": {},
   "outputs": [],
   "source": [
    "sr"
   ]
  },
  {
   "cell_type": "code",
   "execution_count": null,
   "id": "a1241095",
   "metadata": {},
   "outputs": [],
   "source": [
    "sr.sort_values()"
   ]
  },
  {
   "cell_type": "code",
   "execution_count": null,
   "id": "a4b3e26c",
   "metadata": {},
   "outputs": [],
   "source": [
    "sr=Series(np.arange(11))"
   ]
  },
  {
   "cell_type": "code",
   "execution_count": null,
   "id": "78b3178d",
   "metadata": {},
   "outputs": [],
   "source": [
    "sr"
   ]
  },
  {
   "cell_type": "code",
   "execution_count": null,
   "id": "86764b18",
   "metadata": {},
   "outputs": [],
   "source": [
    "substr=sr[:6]"
   ]
  },
  {
   "cell_type": "code",
   "execution_count": null,
   "id": "e312fa15",
   "metadata": {},
   "outputs": [],
   "source": [
    "substr"
   ]
  },
  {
   "cell_type": "code",
   "execution_count": null,
   "id": "8a801020",
   "metadata": {},
   "outputs": [],
   "source": [
    "s1=Series(np.arange(5))"
   ]
  },
  {
   "cell_type": "code",
   "execution_count": null,
   "id": "02c4448e",
   "metadata": {},
   "outputs": [],
   "source": [
    "s2=Series((2,4,6,8,10))"
   ]
  },
  {
   "cell_type": "code",
   "execution_count": null,
   "id": "c5aa3bba",
   "metadata": {},
   "outputs": [],
   "source": [
    "s=s1[s1 in s2.values()]"
   ]
  },
  {
   "cell_type": "code",
   "execution_count": null,
   "id": "cc5b5eb7",
   "metadata": {},
   "outputs": [],
   "source": [
    "s=s1[s1 isin s2]"
   ]
  },
  {
   "cell_type": "code",
   "execution_count": null,
   "id": "3ae8110d",
   "metadata": {},
   "outputs": [],
   "source": [
    "s=s1[s1.isin(s2)]"
   ]
  },
  {
   "cell_type": "code",
   "execution_count": null,
   "id": "6dd0de2a",
   "metadata": {},
   "outputs": [],
   "source": [
    "s"
   ]
  },
  {
   "cell_type": "code",
   "execution_count": null,
   "id": "257fea6c",
   "metadata": {},
   "outputs": [],
   "source": [
    "s=s1[~s1.isin(s2)]"
   ]
  },
  {
   "cell_type": "code",
   "execution_count": null,
   "id": "ecc48274",
   "metadata": {},
   "outputs": [],
   "source": [
    "s"
   ]
  },
  {
   "cell_type": "code",
   "execution_count": null,
   "id": "e6f83af6",
   "metadata": {},
   "outputs": [],
   "source": [
    "s=s1[~s1==s2]"
   ]
  },
  {
   "cell_type": "code",
   "execution_count": null,
   "id": "061c549b",
   "metadata": {},
   "outputs": [],
   "source": [
    "s"
   ]
  },
  {
   "cell_type": "code",
   "execution_count": null,
   "id": "04d175b7",
   "metadata": {},
   "outputs": [],
   "source": [
    "data={'X':[78,85,96,80,86], 'Y':[84,94,89,83,86],'Z':[86,97,96,72,83]}"
   ]
  },
  {
   "cell_type": "code",
   "execution_count": null,
   "id": "0015950c",
   "metadata": {},
   "outputs": [],
   "source": [
    "data"
   ]
  },
  {
   "cell_type": "code",
   "execution_count": null,
   "id": "c93829ef",
   "metadata": {},
   "outputs": [],
   "source": [
    "data=DataFrame(data)"
   ]
  },
  {
   "cell_type": "code",
   "execution_count": null,
   "id": "ab8bea28",
   "metadata": {},
   "outputs": [],
   "source": [
    "data"
   ]
  },
  {
   "cell_type": "code",
   "execution_count": null,
   "id": "162c53bc",
   "metadata": {},
   "outputs": [],
   "source": [
    "exam_data = {'name': ['Anastasia', 'Dima', 'Katherine', 'James', 'Emily', 'Michael', 'Matthew', 'Laura', 'Kevin', 'Jonas'],\n",
    "'score': [12.5, 9, 16.5, np.nan, 9, 20, 14.5, np.nan, 8, 19],\n",
    "'attempts': [1, 3, 2, 3, 2, 3, 1, 1, 2, 1],\n",
    "'qualify': ['yes', 'no', 'yes', 'no', 'no', 'yes', 'yes', 'no', 'no', 'yes']}\n",
    "index = ['a', 'b', 'c', 'd', 'e', 'f', 'g', 'h', 'i', 'j']"
   ]
  },
  {
   "cell_type": "code",
   "execution_count": null,
   "id": "483c5ee0",
   "metadata": {},
   "outputs": [],
   "source": [
    "exam_data"
   ]
  },
  {
   "cell_type": "code",
   "execution_count": null,
   "id": "15374838",
   "metadata": {},
   "outputs": [],
   "source": [
    "exam_data=DataFrame(exam_data)"
   ]
  },
  {
   "cell_type": "code",
   "execution_count": null,
   "id": "03c1c607",
   "metadata": {},
   "outputs": [],
   "source": [
    "exam_data"
   ]
  },
  {
   "cell_type": "code",
   "execution_count": null,
   "id": "2b60d8b0",
   "metadata": {},
   "outputs": [],
   "source": [
    "exam_data.info()"
   ]
  },
  {
   "cell_type": "code",
   "execution_count": null,
   "id": "829f00c9",
   "metadata": {},
   "outputs": [],
   "source": [
    "exam_data"
   ]
  },
  {
   "cell_type": "code",
   "execution_count": null,
   "id": "945e55ed",
   "metadata": {},
   "outputs": [],
   "source": [
    "exam_data.iloc[2]"
   ]
  },
  {
   "cell_type": "code",
   "execution_count": null,
   "id": "6283bbff",
   "metadata": {},
   "outputs": [],
   "source": [
    "exam_data.loc[:,['name','score']]"
   ]
  },
  {
   "cell_type": "code",
   "execution_count": null,
   "id": "047614a4",
   "metadata": {},
   "outputs": [],
   "source": [
    "exam_data.loc[[1,3,5,6],['name','score']]"
   ]
  },
  {
   "cell_type": "code",
   "execution_count": null,
   "id": "ed93d0b5",
   "metadata": {},
   "outputs": [],
   "source": [
    "exam_data[exam_data>2]"
   ]
  },
  {
   "cell_type": "code",
   "execution_count": null,
   "id": "5a417b30",
   "metadata": {},
   "outputs": [],
   "source": [
    "exam_data"
   ]
  },
  {
   "cell_type": "code",
   "execution_count": null,
   "id": "263f9255",
   "metadata": {},
   "outputs": [],
   "source": [
    "exam_data[exam_data.attempts>2]"
   ]
  },
  {
   "cell_type": "code",
   "execution_count": null,
   "id": "59253c45",
   "metadata": {},
   "outputs": [],
   "source": [
    "exam_data.count(axis=0)"
   ]
  },
  {
   "cell_type": "markdown",
   "id": "df9a47b0",
   "metadata": {},
   "source": []
  },
  {
   "cell_type": "code",
   "execution_count": null,
   "id": "d6b4c6d1",
   "metadata": {},
   "outputs": [],
   "source": [
    "exam_data.axes[1]"
   ]
  },
  {
   "cell_type": "code",
   "execution_count": null,
   "id": "c78a0585",
   "metadata": {},
   "outputs": [],
   "source": [
    "len(exam_data.axes[0])"
   ]
  },
  {
   "cell_type": "code",
   "execution_count": null,
   "id": "3106f7a8",
   "metadata": {},
   "outputs": [],
   "source": [
    "len(exam_data.axes[1])"
   ]
  },
  {
   "cell_type": "markdown",
   "id": "eefcdb21",
   "metadata": {},
   "source": []
  },
  {
   "cell_type": "code",
   "execution_count": null,
   "id": "b7dc4d7e",
   "metadata": {},
   "outputs": [],
   "source": [
    "exam_data[exam_data.score.isnull()]"
   ]
  },
  {
   "cell_type": "code",
   "execution_count": null,
   "id": "8a6b3b66",
   "metadata": {},
   "outputs": [],
   "source": [
    "df=exam_data"
   ]
  },
  {
   "cell_type": "code",
   "execution_count": null,
   "id": "4e92c746",
   "metadata": {},
   "outputs": [],
   "source": [
    "df"
   ]
  },
  {
   "cell_type": "code",
   "execution_count": null,
   "id": "a30992f6",
   "metadata": {},
   "outputs": [],
   "source": [
    "df[(df.score>=15) & (df.score<=20)]"
   ]
  },
  {
   "cell_type": "code",
   "execution_count": null,
   "id": "548f5157",
   "metadata": {},
   "outputs": [],
   "source": [
    "df[(df.attempts<2) & (df.score>15)]"
   ]
  },
  {
   "cell_type": "code",
   "execution_count": null,
   "id": "372bcb81",
   "metadata": {},
   "outputs": [],
   "source": [
    "df"
   ]
  },
  {
   "cell_type": "code",
   "execution_count": null,
   "id": "5132f962",
   "metadata": {},
   "outputs": [],
   "source": [
    "dfa= {'name': ['Anastasia', 'Dima', 'Katherine', 'James', 'Emily', 'Michael', 'Matthew', 'Laura', 'Kevin', 'Jonas'],\n",
    "'score': [12.5, 9, 16.5, np.nan, 9, 20, 14.5, np.nan, 8, 19],\n",
    "'attempts': [1, 3, 2, 3, 2, 3, 1, 1, 2, 1],\n",
    "'qualify': ['yes', 'no', 'yes', 'no', 'no', 'yes', 'yes', 'no', 'no', 'yes']}\n",
    "index = ['a', 'b', 'c', 'd', 'e', 'f', 'g', 'h', 'i', 'j']"
   ]
  },
  {
   "cell_type": "code",
   "execution_count": null,
   "id": "1438d607",
   "metadata": {},
   "outputs": [],
   "source": [
    "df=DataFrame(dfa)"
   ]
  },
  {
   "cell_type": "code",
   "execution_count": null,
   "id": "a08db1c0",
   "metadata": {},
   "outputs": [],
   "source": [
    "df=DatatFrame({'name': ['Anastasia', 'Dima', 'Katherine', 'James', 'Emily', 'Michael', 'Matthew', 'Laura', 'Kevin', 'Jonas'],\n",
    "'score': [12.5, 9, 16.5, np.nan, 9, 20, 14.5, np.nan, 8, 19],\n",
    "'attempts': [1, 3, 2, 3, 2, 3, 1, 1, 2, 1],\n",
    "'qualify': ['yes', 'no', 'yes', 'no', 'no', 'yes', 'yes', 'no', 'no', 'yes']},\n",
    "index = ['a', 'b', 'c', 'd', 'e', 'f', 'g', 'h', 'i', 'j'])"
   ]
  },
  {
   "cell_type": "code",
   "execution_count": null,
   "id": "5b5d49f6",
   "metadata": {},
   "outputs": [],
   "source": [
    "exam_data = {'name': ['Anastasia', 'Dima', 'Katherine', 'James', 'Emily', 'Michael', 'Matthew', 'Laura', 'Kevin', 'Jonas'],\n",
    "'score': [12.5, 9, 16.5, np.nan, 9, 20, 14.5, np.nan, 8, 19],\n",
    "'attempts': [1, 3, 2, 3, 2, 3, 1, 1, 2, 1],\n",
    "'qualify': ['yes', 'no', 'yes', 'no', 'no', 'yes', 'yes', 'no', 'no', 'yes']}\n",
    "indix= ['a', 'b', 'c', 'd', 'e', 'f', 'g', 'h', 'i', 'j']"
   ]
  },
  {
   "cell_type": "code",
   "execution_count": null,
   "id": "2f443fff",
   "metadata": {},
   "outputs": [],
   "source": [
    "df=DataFrame(exam_data,index= ['a', 'b', 'c', 'd', 'e', 'f', 'g', 'h', 'i', 'j'])"
   ]
  },
  {
   "cell_type": "code",
   "execution_count": null,
   "id": "88a96972",
   "metadata": {},
   "outputs": [],
   "source": [
    "df"
   ]
  },
  {
   "cell_type": "code",
   "execution_count": null,
   "id": "dcbc407f",
   "metadata": {},
   "outputs": [],
   "source": [
    "df.loc[['d'],['score']]=11.5"
   ]
  },
  {
   "cell_type": "code",
   "execution_count": null,
   "id": "d9446485",
   "metadata": {},
   "outputs": [],
   "source": [
    "df"
   ]
  },
  {
   "cell_type": "code",
   "execution_count": null,
   "id": "04aaea01",
   "metadata": {},
   "outputs": [],
   "source": [
    "df.groupby('attempts').sum()"
   ]
  },
  {
   "cell_type": "code",
   "execution_count": null,
   "id": "d63c3535",
   "metadata": {},
   "outputs": [],
   "source": [
    "df.attempts.sum()"
   ]
  },
  {
   "cell_type": "code",
   "execution_count": null,
   "id": "899ab6d5",
   "metadata": {},
   "outputs": [],
   "source": [
    "df.loc[[:]].mean()"
   ]
  },
  {
   "cell_type": "code",
   "execution_count": null,
   "id": "838e31b7",
   "metadata": {},
   "outputs": [],
   "source": [
    "df.score.mean()"
   ]
  },
  {
   "cell_type": "code",
   "execution_count": null,
   "id": "5f585d27",
   "metadata": {},
   "outputs": [],
   "source": [
    "k=Series([\"Suresh\",15.5, 1, \"yes\"],index=[\"k\"])"
   ]
  },
  {
   "cell_type": "code",
   "execution_count": null,
   "id": "500f8a27",
   "metadata": {},
   "outputs": [],
   "source": [
    "df.loc['k']=[\"Suresh\",15.5, 1, \"yes\"]"
   ]
  },
  {
   "cell_type": "code",
   "execution_count": null,
   "id": "c027da30",
   "metadata": {},
   "outputs": [],
   "source": [
    "df"
   ]
  },
  {
   "cell_type": "code",
   "execution_count": null,
   "id": "26c04f01",
   "metadata": {},
   "outputs": [],
   "source": [
    "df.drop('k')"
   ]
  },
  {
   "cell_type": "code",
   "execution_count": null,
   "id": "dbee62c6",
   "metadata": {},
   "outputs": [],
   "source": [
    "df.sort_values(by=['name','score'],ascending=[False,True])"
   ]
  },
  {
   "cell_type": "code",
   "execution_count": null,
   "id": "b524687c",
   "metadata": {},
   "outputs": [],
   "source": [
    "df['qualify'] = df['qualify'].map({'yes': True, 'no': False})\n"
   ]
  },
  {
   "cell_type": "code",
   "execution_count": null,
   "id": "1ee2031f",
   "metadata": {},
   "outputs": [],
   "source": [
    "df"
   ]
  },
  {
   "cell_type": "code",
   "execution_count": 28,
   "id": "89ad0249",
   "metadata": {},
   "outputs": [
    {
     "ename": "NameError",
     "evalue": "name 'df' is not defined",
     "output_type": "error",
     "traceback": [
      "\u001b[0;31m---------------------------------------------------------------------------\u001b[0m",
      "\u001b[0;31mNameError\u001b[0m                                 Traceback (most recent call last)",
      "Input \u001b[0;32mIn [28]\u001b[0m, in \u001b[0;36m<cell line: 1>\u001b[0;34m()\u001b[0m\n\u001b[0;32m----> 1\u001b[0m df\u001b[38;5;241m=\u001b[39mdf[\u001b[38;5;124m'\u001b[39m\u001b[38;5;124mname\u001b[39m\u001b[38;5;124m'\u001b[39m] \u001b[38;5;241m=\u001b[39m \u001b[43mdf\u001b[49m[\u001b[38;5;124m'\u001b[39m\u001b[38;5;124mname\u001b[39m\u001b[38;5;124m'\u001b[39m]\u001b[38;5;241m.\u001b[39mmap({\u001b[38;5;124m'\u001b[39m\u001b[38;5;124mJames\u001b[39m\u001b[38;5;124m'\u001b[39m :\u001b[38;5;124m'\u001b[39m\u001b[38;5;124mSuresh\u001b[39m\u001b[38;5;124m'\u001b[39m})\n",
      "\u001b[0;31mNameError\u001b[0m: name 'df' is not defined"
     ]
    }
   ],
   "source": [
    "df=df['name'] = df['name'].map({'James' :'Suresh'})\n"
   ]
  },
  {
   "cell_type": "code",
   "execution_count": null,
   "id": "8da0ef65",
   "metadata": {},
   "outputs": [],
   "source": [
    "df"
   ]
  },
  {
   "cell_type": "code",
   "execution_count": null,
   "id": "36a0e911",
   "metadata": {},
   "outputs": [],
   "source": []
  },
  {
   "cell_type": "code",
   "execution_count": null,
   "id": "363c3148",
   "metadata": {},
   "outputs": [],
   "source": [
    "df"
   ]
  },
  {
   "cell_type": "code",
   "execution_count": null,
   "id": "01f1b07e",
   "metadata": {},
   "outputs": [],
   "source": []
  },
  {
   "cell_type": "code",
   "execution_count": null,
   "id": "b534a720",
   "metadata": {},
   "outputs": [],
   "source": []
  }
 ],
 "metadata": {
  "kernelspec": {
   "display_name": "Python 3 (ipykernel)",
   "language": "python",
   "name": "python3"
  },
  "language_info": {
   "codemirror_mode": {
    "name": "ipython",
    "version": 3
   },
   "file_extension": ".py",
   "mimetype": "text/x-python",
   "name": "python",
   "nbconvert_exporter": "python",
   "pygments_lexer": "ipython3",
   "version": "3.8.10"
  }
 },
 "nbformat": 4,
 "nbformat_minor": 5
}
